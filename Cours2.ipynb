{
 "cells": [
  {
   "cell_type": "markdown",
   "metadata": {},
   "source": [
    "<center> <h1> Cour2:Revision python </h1> </center>"
   ]
  },
  {
   "cell_type": "markdown",
   "metadata": {},
   "source": [
    "<h4> 5. Les Boucles </h4>"
   ]
  },
  {
   "cell_type": "markdown",
   "metadata": {},
   "source": [
    "5.1 La boucle for"
   ]
  },
  {
   "cell_type": "code",
   "execution_count": 118,
   "metadata": {},
   "outputs": [
    {
     "name": "stdout",
     "output_type": "stream",
     "text": [
      "[0, 1, 2, 3, 4, 5, 6, 7, 8, 9, 10]\n",
      "[5, 6, 7, 8, 9, 10]\n",
      "[5, 10, 15, 20, 25, 30, 35, 40, 45, 50, 55, 60, 65, 70, 75, 80, 85, 90, 95, 100]\n"
     ]
    }
   ],
   "source": [
    "print([i for i in range(11)])\n",
    "print([i for i in range(5,11)])\n",
    "print([i for i in range(5,101,5)])"
   ]
  },
  {
   "cell_type": "code",
   "execution_count": 119,
   "metadata": {},
   "outputs": [
    {
     "name": "stdout",
     "output_type": "stream",
     "text": [
      "0\n",
      "1\n",
      "2\n",
      "3\n",
      "4\n",
      "5\n",
      "6\n",
      "7\n",
      "8\n",
      "9\n"
     ]
    }
   ],
   "source": [
    "for k in range(10):\n",
    "    print(k)"
   ]
  },
  {
   "cell_type": "code",
   "execution_count": 120,
   "metadata": {},
   "outputs": [
    {
     "name": "stdout",
     "output_type": "stream",
     "text": [
      "0 1 2 3 4 5 6 7 8 9 "
     ]
    }
   ],
   "source": [
    "for k in range(10):\n",
    "    print(k,end=' ')"
   ]
  },
  {
   "cell_type": "code",
   "execution_count": 121,
   "metadata": {},
   "outputs": [
    {
     "name": "stdout",
     "output_type": "stream",
     "text": [
      "0 1 4 9 16 25 36 49 64 81 "
     ]
    }
   ],
   "source": [
    "for k in range(10):\n",
    "    print(k**2,end=' ')"
   ]
  },
  {
   "cell_type": "code",
   "execution_count": 122,
   "metadata": {},
   "outputs": [
    {
     "name": "stdout",
     "output_type": "stream",
     "text": [
      "T - e - c - c - a - r - t - "
     ]
    }
   ],
   "source": [
    "chaine1 ='Teccart'\n",
    "for i in chaine1:\n",
    "    print(i,end=' - ')\n"
   ]
  },
  {
   "cell_type": "code",
   "execution_count": 123,
   "metadata": {},
   "outputs": [
    {
     "name": "stdout",
     "output_type": "stream",
     "text": [
      "0 5*t = ttttt\n",
      "1 5*t = ttttt\n",
      "2 5*t = ttttt\n",
      "3 5*t = ttttt\n",
      "4 5*t = ttttt\n",
      "5 5*t = ttttt\n",
      "6 5*t = ttttt\n",
      "7 5*t = ttttt\n",
      "8 5*t = ttttt\n",
      "9 5*t = ttttt\n"
     ]
    }
   ],
   "source": [
    "for k in range(10):\n",
    "    print(k,end=' ')\n",
    "    print(f'5*{i} = {5*i}')"
   ]
  },
  {
   "cell_type": "code",
   "execution_count": 124,
   "metadata": {},
   "outputs": [
    {
     "name": "stdout",
     "output_type": "stream",
     "text": [
      "La table de multiplication de 1 =\n",
      "----------------------------\n",
      "0*1 = 0\n",
      "1*1 = 1\n",
      "2*1 = 2\n",
      "3*1 = 3\n",
      "4*1 = 4\n",
      "5*1 = 5\n",
      "6*1 = 6\n",
      "7*1 = 7\n",
      "8*1 = 8\n",
      "9*1 = 9\n",
      "10*1 = 10\n",
      "La table de multiplication de 2 =\n",
      "----------------------------\n",
      "0*2 = 0\n",
      "1*2 = 2\n",
      "2*2 = 4\n",
      "3*2 = 6\n",
      "4*2 = 8\n",
      "5*2 = 10\n",
      "6*2 = 12\n",
      "7*2 = 14\n",
      "8*2 = 16\n",
      "9*2 = 18\n",
      "10*2 = 20\n",
      "La table de multiplication de 3 =\n",
      "----------------------------\n",
      "0*3 = 0\n",
      "1*3 = 3\n",
      "2*3 = 6\n",
      "3*3 = 9\n",
      "4*3 = 12\n",
      "5*3 = 15\n",
      "6*3 = 18\n",
      "7*3 = 21\n",
      "8*3 = 24\n",
      "9*3 = 27\n",
      "10*3 = 30\n",
      "La table de multiplication de 4 =\n",
      "----------------------------\n",
      "0*4 = 0\n",
      "1*4 = 4\n",
      "2*4 = 8\n",
      "3*4 = 12\n",
      "4*4 = 16\n",
      "5*4 = 20\n",
      "6*4 = 24\n",
      "7*4 = 28\n",
      "8*4 = 32\n",
      "9*4 = 36\n",
      "10*4 = 40\n",
      "La table de multiplication de 5 =\n",
      "----------------------------\n",
      "0*5 = 0\n",
      "1*5 = 5\n",
      "2*5 = 10\n",
      "3*5 = 15\n",
      "4*5 = 20\n",
      "5*5 = 25\n",
      "6*5 = 30\n",
      "7*5 = 35\n",
      "8*5 = 40\n",
      "9*5 = 45\n",
      "10*5 = 50\n",
      "La table de multiplication de 6 =\n",
      "----------------------------\n",
      "0*6 = 0\n",
      "1*6 = 6\n",
      "2*6 = 12\n",
      "3*6 = 18\n",
      "4*6 = 24\n",
      "5*6 = 30\n",
      "6*6 = 36\n",
      "7*6 = 42\n",
      "8*6 = 48\n",
      "9*6 = 54\n",
      "10*6 = 60\n",
      "La table de multiplication de 7 =\n",
      "----------------------------\n",
      "0*7 = 0\n",
      "1*7 = 7\n",
      "2*7 = 14\n",
      "3*7 = 21\n",
      "4*7 = 28\n",
      "5*7 = 35\n",
      "6*7 = 42\n",
      "7*7 = 49\n",
      "8*7 = 56\n",
      "9*7 = 63\n",
      "10*7 = 70\n",
      "La table de multiplication de 8 =\n",
      "----------------------------\n",
      "0*8 = 0\n",
      "1*8 = 8\n",
      "2*8 = 16\n",
      "3*8 = 24\n",
      "4*8 = 32\n",
      "5*8 = 40\n",
      "6*8 = 48\n",
      "7*8 = 56\n",
      "8*8 = 64\n",
      "9*8 = 72\n",
      "10*8 = 80\n",
      "La table de multiplication de 9 =\n",
      "----------------------------\n",
      "0*9 = 0\n",
      "1*9 = 9\n",
      "2*9 = 18\n",
      "3*9 = 27\n",
      "4*9 = 36\n",
      "5*9 = 45\n",
      "6*9 = 54\n",
      "7*9 = 63\n",
      "8*9 = 72\n",
      "9*9 = 81\n",
      "10*9 = 90\n",
      "La table de multiplication de 10 =\n",
      "----------------------------\n",
      "0*10 = 0\n",
      "1*10 = 10\n",
      "2*10 = 20\n",
      "3*10 = 30\n",
      "4*10 = 40\n",
      "5*10 = 50\n",
      "6*10 = 60\n",
      "7*10 = 70\n",
      "8*10 = 80\n",
      "9*10 = 90\n",
      "10*10 = 100\n"
     ]
    }
   ],
   "source": [
    "for j in range(1,11):\n",
    "    print(f'La table de multiplication de {j} =\\n----------------------------')\n",
    "    for i in range(11):\n",
    "        print(f'{i}*{j} = {i*j}')"
   ]
  },
  {
   "cell_type": "code",
   "execution_count": 125,
   "metadata": {},
   "outputs": [
    {
     "name": "stdout",
     "output_type": "stream",
     "text": [
      "-------------------\n",
      " La Somme est : 5050\n"
     ]
    }
   ],
   "source": [
    "Smme =0\n",
    "for i in range(1,101):\n",
    "  Smme += i\n",
    "print(f'-------------------\\n La Somme est : {Smme}')"
   ]
  },
  {
   "cell_type": "code",
   "execution_count": 126,
   "metadata": {},
   "outputs": [
    {
     "name": "stdout",
     "output_type": "stream",
     "text": [
      "-------------------\n",
      " La Somme est : 2550\n"
     ]
    }
   ],
   "source": [
    "Smme =0\n",
    "for i in range(101):\n",
    "  if i%2==0:\n",
    "      Smme += i\n",
    "print(f'-------------------\\n La Somme est : {Smme}')"
   ]
  },
  {
   "cell_type": "code",
   "execution_count": 127,
   "metadata": {},
   "outputs": [
    {
     "name": "stdout",
     "output_type": "stream",
     "text": [
      "5\n",
      "8\n",
      "15\n"
     ]
    }
   ],
   "source": [
    "liste1 = [5,8,15]\n",
    "for x in liste1:\n",
    "    print(x)"
   ]
  },
  {
   "cell_type": "markdown",
   "metadata": {},
   "source": [
    "5.2 La boucle while"
   ]
  },
  {
   "cell_type": "code",
   "execution_count": 128,
   "metadata": {},
   "outputs": [
    {
     "name": "stdout",
     "output_type": "stream",
     "text": [
      "count  2\n",
      "count  3\n",
      "count  4\n",
      "count  5\n",
      "count  6\n",
      "count  7\n",
      "count  8\n",
      "count  9\n",
      "count  10\n"
     ]
    }
   ],
   "source": [
    "count =2\n",
    "while count <= 10:\n",
    "    print('count ',count)\n",
    "    count+=1"
   ]
  },
  {
   "cell_type": "code",
   "execution_count": 129,
   "metadata": {},
   "outputs": [
    {
     "name": "stdout",
     "output_type": "stream",
     "text": [
      "i= 1\n",
      "i= 3\n",
      "i= 5\n",
      "i= 7\n",
      "i= 9\n"
     ]
    }
   ],
   "source": [
    "i=0\n",
    "while i<10:\n",
    "    i+=1\n",
    "    if i%2==0:\n",
    "        continue\n",
    "    print('i=',i)"
   ]
  },
  {
   "cell_type": "code",
   "execution_count": 130,
   "metadata": {},
   "outputs": [
    {
     "name": "stdout",
     "output_type": "stream",
     "text": [
      "0\n",
      "1\n",
      "2\n",
      "3\n",
      "4\n",
      "5\n",
      "6\n",
      "7\n",
      "8\n",
      "9\n",
      "10\n",
      "11\n",
      "12\n",
      "13\n",
      "14\n",
      "15\n",
      "16\n",
      "17\n",
      "18\n",
      "19\n"
     ]
    }
   ],
   "source": [
    "i=0\n",
    "while True:\n",
    "    print(i)\n",
    "    i+=1\n",
    "    if i>=20:\n",
    "        break"
   ]
  },
  {
   "cell_type": "code",
   "execution_count": 131,
   "metadata": {},
   "outputs": [
    {
     "name": "stdout",
     "output_type": "stream",
     "text": [
      "1\n",
      "2\n",
      "3\n",
      "4\n",
      "5\n",
      "6\n",
      "7\n",
      "8\n",
      "9\n",
      "10\n",
      "fin\n"
     ]
    }
   ],
   "source": [
    "count =0\n",
    "while count < 10:\n",
    "    count+=1\n",
    "    print(count)\n",
    "else:\n",
    "    print('fin')    "
   ]
  },
  {
   "cell_type": "markdown",
   "metadata": {},
   "source": [
    "<h3>6.les Listes</h3>"
   ]
  },
  {
   "cell_type": "code",
   "execution_count": 132,
   "metadata": {},
   "outputs": [
    {
     "name": "stdout",
     "output_type": "stream",
     "text": [
      "1\n",
      "5\n",
      "8\n",
      "10\n"
     ]
    }
   ],
   "source": [
    "liste1 =[]\n",
    "liste2= [1,5,8,10]\n",
    "for x in liste2:\n",
    "    print(x)"
   ]
  },
  {
   "cell_type": "code",
   "execution_count": 133,
   "metadata": {},
   "outputs": [
    {
     "name": "stdout",
     "output_type": "stream",
     "text": [
      "[0]\n",
      "[0, 1]\n",
      "[0, 1, 2]\n",
      "[0, 1, 2, 3]\n",
      "[0, 1, 2, 3, 4]\n",
      "[0, 1, 2, 3, 4, 5]\n",
      "[0, 1, 2, 3, 4, 5, 6]\n",
      "[0, 1, 2, 3, 4, 5, 6, 7]\n",
      "[0, 1, 2, 3, 4, 5, 6, 7, 8]\n",
      "[0, 1, 2, 3, 4, 5, 6, 7, 8, 9]\n"
     ]
    }
   ],
   "source": [
    "listes3=[]\n",
    "for x in range(10):\n",
    "    listes3.append(x)\n",
    "    print(listes3)\n"
   ]
  },
  {
   "cell_type": "code",
   "execution_count": 134,
   "metadata": {},
   "outputs": [
    {
     "name": "stdout",
     "output_type": "stream",
     "text": [
      "[1, 5, 8, 10, 0, 1, 2, 3, 4, 5, 6, 7, 8, 9]\n"
     ]
    }
   ],
   "source": [
    "listes4=liste2+listes3\n",
    "print(listes4)"
   ]
  },
  {
   "cell_type": "code",
   "execution_count": 135,
   "metadata": {},
   "outputs": [
    {
     "name": "stdout",
     "output_type": "stream",
     "text": [
      "5  --  -5\n",
      "8  --  18\n",
      "7  --  -77\n",
      "9  --  59\n",
      "5  --  87\n"
     ]
    }
   ],
   "source": [
    "L1=[5,8,7,9,5,-10]\n",
    "L2=[-5,18,-77,59,87]\n",
    "for i,j in zip(L1,L2):\n",
    "    print(i,' -- ',j)"
   ]
  },
  {
   "cell_type": "code",
   "execution_count": 136,
   "metadata": {},
   "outputs": [
    {
     "name": "stdout",
     "output_type": "stream",
     "text": [
      "[0, 26, -70, 68, 92]\n"
     ]
    }
   ],
   "source": [
    "print([x+y for x,y in zip(L1,L2)])"
   ]
  },
  {
   "cell_type": "code",
   "execution_count": 137,
   "metadata": {},
   "outputs": [
    {
     "name": "stdout",
     "output_type": "stream",
     "text": [
      " Le max est : 87\n",
      " Le min est : -77\n",
      " Le sum est : 82\n",
      "[-5, 18, -77, 59, 87]\n",
      "[-77, -5, 18, 59, 87]\n"
     ]
    }
   ],
   "source": [
    "L3=[-5,18,-77,59,87]\n",
    "print(f' Le max est : {max(L3)}')\n",
    "print(f' Le min est : {min(L3)}')\n",
    "print(f' Le sum est : {sum(L3)}')\n",
    "L4=sorted(L3)\n",
    "print(L3)\n",
    "print(L4)\n",
    "          "
   ]
  },
  {
   "cell_type": "code",
   "execution_count": 138,
   "metadata": {},
   "outputs": [
    {
     "name": "stdout",
     "output_type": "stream",
     "text": [
      "vendredi\n",
      "['lundi', 'mardi', 'mercredi', 'jeudi', 'vendredi']\n"
     ]
    }
   ],
   "source": [
    "days=['lundi','mardi','mercredi','vendredi']\n",
    "print(days[-1])\n",
    "days.insert(3,'jeudi')\n",
    "print(days)"
   ]
  },
  {
   "cell_type": "code",
   "execution_count": 139,
   "metadata": {},
   "outputs": [
    {
     "name": "stdout",
     "output_type": "stream",
     "text": [
      "['lundi', 'mardi', [8, 10], 'mercredi', 'jeudi', 'vendredi']\n"
     ]
    }
   ],
   "source": [
    "days.insert(2,[8,10])\n",
    "print(days)"
   ]
  },
  {
   "cell_type": "code",
   "execution_count": 140,
   "metadata": {},
   "outputs": [
    {
     "name": "stdout",
     "output_type": "stream",
     "text": [
      "10\n"
     ]
    }
   ],
   "source": [
    "print(days[2][1])"
   ]
  },
  {
   "cell_type": "code",
   "execution_count": 141,
   "metadata": {},
   "outputs": [
    {
     "data": {
      "text/plain": [
       "[100, 90, 80, 70, 60, 50, 40, 30, 20, 10]"
      ]
     },
     "execution_count": 141,
     "metadata": {},
     "output_type": "execute_result"
    }
   ],
   "source": [
    "list(range(100,0,-10))"
   ]
  },
  {
   "cell_type": "markdown",
   "metadata": {},
   "source": [
    "<h3> 7. Les tuples</h3>"
   ]
  },
  {
   "cell_type": "code",
   "execution_count": 142,
   "metadata": {},
   "outputs": [
    {
     "name": "stdout",
     "output_type": "stream",
     "text": [
      "(1, 2, 30)\n",
      "(4, 5, 6)\n"
     ]
    }
   ],
   "source": [
    "tuple1=1,2,30\n",
    "tuple2=4,5,6\n",
    "print(tuple1)\n",
    "print(tuple2)"
   ]
  },
  {
   "cell_type": "code",
   "execution_count": 143,
   "metadata": {},
   "outputs": [
    {
     "data": {
      "text/plain": [
       "1"
      ]
     },
     "execution_count": 143,
     "metadata": {},
     "output_type": "execute_result"
    }
   ],
   "source": [
    "tuple1[0]"
   ]
  },
  {
   "cell_type": "code",
   "execution_count": 144,
   "metadata": {},
   "outputs": [
    {
     "name": "stdout",
     "output_type": "stream",
     "text": [
      "(1, 2, 30, 4, 5, 6)\n"
     ]
    }
   ],
   "source": [
    "tuple_concat=tuple1+tuple2\n",
    "print(tuple_concat)"
   ]
  },
  {
   "cell_type": "code",
   "execution_count": 145,
   "metadata": {},
   "outputs": [
    {
     "data": {
      "text/plain": [
       "(1, 2, 1, 2, 1, 2, 1, 2, 1, 2)"
      ]
     },
     "execution_count": 145,
     "metadata": {},
     "output_type": "execute_result"
    }
   ],
   "source": [
    "tuple3=1,2\n",
    "tuple4=tuple3*5\n",
    "tuple4"
   ]
  },
  {
   "cell_type": "code",
   "execution_count": 146,
   "metadata": {},
   "outputs": [
    {
     "name": "stdout",
     "output_type": "stream",
     "text": [
      "1\n",
      "2\n"
     ]
    }
   ],
   "source": [
    "a,b=tuple3\n",
    "print(a)\n",
    "print(b)\n"
   ]
  },
  {
   "cell_type": "code",
   "execution_count": 148,
   "metadata": {},
   "outputs": [
    {
     "data": {
      "text/plain": [
       "('ab', 145, 78, 25)"
      ]
     },
     "execution_count": 148,
     "metadata": {},
     "output_type": "execute_result"
    }
   ],
   "source": [
    "tuple5='ab',145,78,25\n",
    "tuple5"
   ]
  },
  {
   "cell_type": "markdown",
   "metadata": {},
   "source": [
    "<h3> Les dictionnaires</h3>"
   ]
  },
  {
   "cell_type": "code",
   "execution_count": 150,
   "metadata": {},
   "outputs": [
    {
     "name": "stdout",
     "output_type": "stream",
     "text": [
      "{'cle1': 'val1', 'cle2': 'val2'}\n"
     ]
    }
   ],
   "source": [
    "dict1={'cle1':'val1', 'cle2':'val2'}\n",
    "print(dict1)"
   ]
  },
  {
   "cell_type": "code",
   "execution_count": 151,
   "metadata": {},
   "outputs": [
    {
     "name": "stdout",
     "output_type": "stream",
     "text": [
      "{'cle1': 5, 'cle2': 'val2'}\n"
     ]
    }
   ],
   "source": [
    "dict2={'cle1':5, 'cle2':'val2'}\n",
    "print(dict2)"
   ]
  },
  {
   "cell_type": "code",
   "execution_count": 152,
   "metadata": {},
   "outputs": [
    {
     "name": "stdout",
     "output_type": "stream",
     "text": [
      "{1: 'val1', 2: 'val2'}\n"
     ]
    }
   ],
   "source": [
    "dict3= {1: 'val1', 2:'val2'}\n",
    "print(dict3)"
   ]
  },
  {
   "cell_type": "code",
   "execution_count": 154,
   "metadata": {},
   "outputs": [
    {
     "data": {
      "text/plain": [
       "{1: 'val1b', 2: 'val2'}"
      ]
     },
     "execution_count": 154,
     "metadata": {},
     "output_type": "execute_result"
    }
   ],
   "source": [
    "dict3[1]='val1b'\n",
    "dict3"
   ]
  },
  {
   "cell_type": "code",
   "execution_count": 157,
   "metadata": {},
   "outputs": [
    {
     "name": "stdout",
     "output_type": "stream",
     "text": [
      "val1\n",
      "dict_keys(['cle1', 'cle2'])\n",
      "dict_values(['val1', 'val2'])\n"
     ]
    }
   ],
   "source": [
    "print(dict1['cle1'])\n",
    "print(dict1.keys())\n",
    "print(dict1.values())"
   ]
  },
  {
   "cell_type": "code",
   "execution_count": 158,
   "metadata": {},
   "outputs": [
    {
     "name": "stdout",
     "output_type": "stream",
     "text": [
      "cle1\n",
      "cle2\n"
     ]
    }
   ],
   "source": [
    "for x in dict1.keys():\n",
    "    print(x)"
   ]
  },
  {
   "cell_type": "code",
   "execution_count": 159,
   "metadata": {},
   "outputs": [
    {
     "name": "stdout",
     "output_type": "stream",
     "text": [
      "val1\n",
      "val2\n"
     ]
    }
   ],
   "source": [
    "for x in dict1.values():\n",
    "    print(x)"
   ]
  },
  {
   "cell_type": "markdown",
   "metadata": {},
   "source": [
    "<h3> 9. Les fonctions</h3> "
   ]
  },
  {
   "cell_type": "code",
   "execution_count": 160,
   "metadata": {},
   "outputs": [],
   "source": [
    "def operation(a,b):\n",
    "    add=a+b\n",
    "    prod=a*b\n",
    "    sous=a-b\n",
    "    div=a/b\n",
    "    return add,prod,sous,div"
   ]
  },
  {
   "cell_type": "code",
   "execution_count": 165,
   "metadata": {},
   "outputs": [
    {
     "name": "stdout",
     "output_type": "stream",
     "text": [
      "18 80 2 1.25\n"
     ]
    }
   ],
   "source": [
    "w,x,y,z=operation(10,8)\n",
    "print(w,x,y,z)"
   ]
  },
  {
   "cell_type": "code",
   "execution_count": 166,
   "metadata": {},
   "outputs": [
    {
     "name": "stdout",
     "output_type": "stream",
     "text": [
      "18 80 2\n"
     ]
    }
   ],
   "source": [
    "w,x,y,_=operation(10,8)\n",
    "print(w,x,y)"
   ]
  },
  {
   "cell_type": "code",
   "execution_count": 168,
   "metadata": {},
   "outputs": [],
   "source": [
    "def fact(n):\n",
    "    if n==0:\n",
    "        return 1\n",
    "    else:\n",
    "        return n*fact(n-1)"
   ]
  },
  {
   "cell_type": "code",
   "execution_count": 169,
   "metadata": {},
   "outputs": [
    {
     "name": "stdout",
     "output_type": "stream",
     "text": [
      "Le factoriel est :  720\n"
     ]
    }
   ],
   "source": [
    "print(f'Le factoriel est : ',fact(6))"
   ]
  },
  {
   "cell_type": "code",
   "execution_count": 170,
   "metadata": {},
   "outputs": [],
   "source": [
    "compteur =0\n",
    "def incrementer():\n",
    "   global compteur\n",
    "   compteur += 1\n",
    "   print(f\"Compteur a l'interieur :{compteur} \" )\n",
    "def afficher_compteur():\n",
    "  print(f\"Compteur : {compteur} \")"
   ]
  },
  {
   "cell_type": "code",
   "execution_count": 177,
   "metadata": {},
   "outputs": [
    {
     "name": "stdout",
     "output_type": "stream",
     "text": [
      "Compteur : 6 \n",
      "Compteur a l'interieur :7 \n",
      "Compteur : 7 \n"
     ]
    }
   ],
   "source": [
    "afficher_compteur()\n",
    "incrementer()\n",
    "afficher_compteur()"
   ]
  }
 ],
 "metadata": {
  "kernelspec": {
   "display_name": "env",
   "language": "python",
   "name": "python3"
  },
  "language_info": {
   "codemirror_mode": {
    "name": "ipython",
    "version": 3
   },
   "file_extension": ".py",
   "mimetype": "text/x-python",
   "name": "python",
   "nbconvert_exporter": "python",
   "pygments_lexer": "ipython3",
   "version": "3.12.6"
  }
 },
 "nbformat": 4,
 "nbformat_minor": 2
}
