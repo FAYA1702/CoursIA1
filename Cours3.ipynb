{
 "cells": [
  {
   "cell_type": "markdown",
   "metadata": {},
   "source": [
    "<center> <h1> Cour3:Pandas </h1> </center>"
   ]
  },
  {
   "cell_type": "code",
   "execution_count": 101,
   "metadata": {},
   "outputs": [
    {
     "name": "stdout",
     "output_type": "stream",
     "text": [
      "0     4\n",
      "1     5\n",
      "2     8\n",
      "3     1\n",
      "4     0\n",
      "5   -30\n",
      "Name: valeurs, dtype: int64\n"
     ]
    }
   ],
   "source": [
    "import pandas as pd\n",
    "data=[4,5,8,1,0,-30]\n",
    "seri1=pd.Series(data)\n",
    "seri1.name='valeurs'\n",
    "print(seri1)\n"
   ]
  },
  {
   "cell_type": "code",
   "execution_count": 102,
   "metadata": {},
   "outputs": [
    {
     "name": "stdout",
     "output_type": "stream",
     "text": [
      "Janv    20\n",
      "Sept    21\n",
      "Oct     22\n",
      "Dec     24\n",
      "dtype: int64\n"
     ]
    }
   ],
   "source": [
    "import numpy as np\n",
    "data=[20,21,22,24,]\n",
    "tab=np.array(data)\n",
    "#print(tab)\n",
    "nom=['Janv','Sept','Oct','Dec']\n",
    "seri2=pd.Series(data,index=nom)\n",
    "print(seri2)"
   ]
  },
  {
   "cell_type": "code",
   "execution_count": 103,
   "metadata": {},
   "outputs": [
    {
     "name": "stdout",
     "output_type": "stream",
     "text": [
      "21\n",
      "22\n",
      "21\n",
      "20\n",
      "0\n"
     ]
    }
   ],
   "source": [
    "print(seri2['Sept'])\n",
    "print(seri2.Oct)\n",
    "print(seri2.Sept)\n",
    "print(seri2.min())\n",
    "print(seri2.argmin())\n"
   ]
  },
  {
   "cell_type": "code",
   "execution_count": 104,
   "metadata": {},
   "outputs": [
    {
     "name": "stdout",
     "output_type": "stream",
     "text": [
      "A    10\n",
      "B    20\n",
      "C    30\n",
      "D    40\n",
      "dtype: int64\n"
     ]
    }
   ],
   "source": [
    "serie3=pd.Series([10,20,30,40],index=['A', 'B', 'C','D'])\n",
    "print(serie3)"
   ]
  },
  {
   "cell_type": "code",
   "execution_count": 105,
   "metadata": {},
   "outputs": [
    {
     "name": "stdout",
     "output_type": "stream",
     "text": [
      "A    15\n",
      "B    25\n",
      "C    35\n",
      "D    45\n",
      "dtype: int64\n"
     ]
    }
   ],
   "source": [
    "serie31=serie3+5\n",
    "print(serie31)"
   ]
  },
  {
   "cell_type": "code",
   "execution_count": 106,
   "metadata": {},
   "outputs": [
    {
     "name": "stdout",
     "output_type": "stream",
     "text": [
      "A     100\n",
      "B     400\n",
      "C     900\n",
      "D    1600\n",
      "dtype: int64\n"
     ]
    }
   ],
   "source": [
    "serie32=serie3.apply(lambda x: x**2)\n",
    "print(serie32)"
   ]
  },
  {
   "cell_type": "code",
   "execution_count": 107,
   "metadata": {},
   "outputs": [
    {
     "name": "stdout",
     "output_type": "stream",
     "text": [
      "B     400\n",
      "C     900\n",
      "D    1600\n",
      "dtype: int64\n"
     ]
    }
   ],
   "source": [
    "serie33=serie32[serie32>=400]\n",
    "print(serie33)"
   ]
  },
  {
   "cell_type": "code",
   "execution_count": 108,
   "metadata": {},
   "outputs": [
    {
     "name": "stdout",
     "output_type": "stream",
     "text": [
      "somme=100, La moyenne : 25.0, la Mediane : 25.0,\n"
     ]
    }
   ],
   "source": [
    "somme=serie3.sum()\n",
    "moyenne=serie3.mean()\n",
    "mediane=serie3.median()\n",
    "print(f'somme={somme}, La moyenne : {moyenne}, la Mediane : {mediane},')"
   ]
  },
  {
   "cell_type": "markdown",
   "metadata": {},
   "source": [
    "<h1> 1.2 Traitement des valeurs manquantes</h1>"
   ]
  },
  {
   "cell_type": "code",
   "execution_count": 109,
   "metadata": {},
   "outputs": [
    {
     "name": "stdout",
     "output_type": "stream",
     "text": [
      "serie4:\n",
      "--------------------\n",
      "0    10.0\n",
      "1     NaN\n",
      "2    30.0\n",
      "3     NaN\n",
      "dtype: float64\n"
     ]
    }
   ],
   "source": [
    "serie4 = pd.Series([10,None,30,None])\n",
    "print(f'serie4:\\n--------------------\\n{serie4}')"
   ]
  },
  {
   "cell_type": "code",
   "execution_count": 110,
   "metadata": {},
   "outputs": [
    {
     "name": "stdout",
     "output_type": "stream",
     "text": [
      "serie4:\n",
      "--------------------\n",
      "0    10.0\n",
      "1    20.0\n",
      "2    30.0\n",
      "3    20.0\n",
      "dtype: float64\n"
     ]
    }
   ],
   "source": [
    "serie41=serie4.fillna(serie4.mean())\n",
    "print(f'serie4:\\n--------------------\\n{serie41}')"
   ]
  },
  {
   "cell_type": "code",
   "execution_count": 111,
   "metadata": {},
   "outputs": [
    {
     "name": "stdout",
     "output_type": "stream",
     "text": [
      "serie4:\n",
      "--------------------\n",
      "0    10.0\n",
      "1     0.0\n",
      "2    30.0\n",
      "3     0.0\n",
      "dtype: float64\n"
     ]
    }
   ],
   "source": [
    "serie42=serie4.fillna(0)\n",
    "print(f'serie4:\\n--------------------\\n{serie42}')"
   ]
  },
  {
   "cell_type": "code",
   "execution_count": 112,
   "metadata": {},
   "outputs": [
    {
     "name": "stdout",
     "output_type": "stream",
     "text": [
      "serie4:\n",
      "--------------------\n",
      "0    10.0\n",
      "2    30.0\n",
      "dtype: float64\n"
     ]
    }
   ],
   "source": [
    "serie43=serie4.dropna()\n",
    "print(f'serie4:\\n--------------------\\n{serie43}')"
   ]
  },
  {
   "cell_type": "code",
   "execution_count": 113,
   "metadata": {},
   "outputs": [
    {
     "name": "stdout",
     "output_type": "stream",
     "text": [
      "serie4:\n",
      "--------------------\n",
      "0    10.0\n",
      "2    30.0\n",
      "1     NaN\n",
      "3     NaN\n",
      "dtype: float64\n"
     ]
    }
   ],
   "source": [
    "#trie de la serie41\n",
    "serie41T=serie4.sort_values()\n",
    "print(f'serie4:\\n--------------------\\n{serie41T}')"
   ]
  },
  {
   "cell_type": "code",
   "execution_count": 114,
   "metadata": {},
   "outputs": [
    {
     "name": "stdout",
     "output_type": "stream",
     "text": [
      "serie5:\n",
      "--------------------\n",
      "A    1\n",
      "B    2\n",
      "C    3\n",
      "D    4\n",
      "dtype: int64\n",
      "serie51:\n",
      "--------------------\n",
      "A        Un\n",
      "B      Deux\n",
      "C     Trois\n",
      "D    Quatre\n",
      "dtype: object\n"
     ]
    }
   ],
   "source": [
    "serie5=pd.Series([1,2,3,4],index=['A','B','C','D'])\n",
    "print(f'serie5:\\n--------------------\\n{serie5}')\n",
    "dict1={1:'Un',2:'Deux',3:'Trois',4:'Quatre'}\n",
    "serie51=serie5.map(dict1)\n",
    "print(f'serie51:\\n--------------------\\n{serie51}')"
   ]
  },
  {
   "cell_type": "markdown",
   "metadata": {},
   "source": [
    "<h1>2 DataFrame</h1>"
   ]
  },
  {
   "cell_type": "code",
   "execution_count": 115,
   "metadata": {},
   "outputs": [
    {
     "name": "stdout",
     "output_type": "stream",
     "text": [
      "DataFrame1:\n",
      "----------------\n",
      "        Note1  Note2  Note3\n",
      "Hchem      70     40     99\n",
      "Ali        90     78     94\n",
      "Cherif     88     75     98\n",
      "Hchem     70\n",
      "Ali       90\n",
      "Cherif    88\n",
      "Name: Note1, dtype: int64\n",
      "Note1    90\n",
      "Note2    78\n",
      "Note3    94\n",
      "Name: Ali, dtype: int64\n",
      "        Note1  Note2  Note3\n",
      "Ali        90     78     94\n",
      "Cherif     88     75     98\n",
      "DataFrame1:\n",
      "----------------\n",
      "        Note1  Note2  Note3  Note4\n",
      "Hchem      70     40     99      0\n",
      "Ali        90     78     94     95\n",
      "Cherif     88     75     98    100\n"
     ]
    }
   ],
   "source": [
    "list1=[70,40,99]\n",
    "list2=[90,78,94]\n",
    "list3=[88,75,98]\n",
    "\n",
    "tab = np.array([list1,list2,list3])\n",
    "ligne=['Hchem','Ali','Cherif']\n",
    "col=['Note1','Note2','Note3']\n",
    "\n",
    "dataFrame1 = pd.DataFrame(tab,index=ligne,columns=col)\n",
    "print(f'DataFrame1:\\n----------------\\n{dataFrame1}')\n",
    "\n",
    "print(dataFrame1['Note1'])\n",
    "print(dataFrame1.iloc[1])\n",
    "#filtrer par ligne\n",
    "print(dataFrame1[dataFrame1['Note1']>75])\n",
    "# Ajouter une colomne\n",
    "dataFrame1['Note4'] = [0,95,100]\n",
    "print(f'DataFrame1:\\n----------------\\n{dataFrame1}')"
   ]
  },
  {
   "cell_type": "markdown",
   "metadata": {},
   "source": [
    "<h1>3.Statistique Descriptives</h1>"
   ]
  },
  {
   "cell_type": "code",
   "execution_count": 116,
   "metadata": {},
   "outputs": [
    {
     "name": "stdout",
     "output_type": "stream",
     "text": [
      "La moyenne : 2.91\n",
      "La médiane : 2.0\n",
      "Le mode : -1\n",
      "Les multimode : [-1, 0, 5, 2]\n",
      "L'étendu : 11\n",
      "La variance : 10.81\n",
      "L'écart-type : 3.29\n"
     ]
    }
   ],
   "source": [
    "import numpy as np\n",
    "from statistics import mode, multimode\n",
    "from math import sqrt\n",
    "\n",
    "x = np.array([6, -1, 0, 0, -1, 5, 4, 5, 2, 2, 10])\n",
    "moyenne = np.mean(x)\n",
    "mediane = np.median(x)\n",
    "mode = mode(x)\n",
    "multimode = multimode(x)\n",
    "multimode = [int (i) for i in multimode]\n",
    "etendu = np.max(x) - np.min(x)\n",
    "mul = [int(i) for i in multimode]\n",
    "variance = np.var(x)\n",
    "Ecart = sqrt(variance)\n",
    "\n",
    "print(f'La moyenne : {round(moyenne, 2)}')\n",
    "print(f'La médiane : {mediane}')\n",
    "print(f'Le mode : {mode}')\n",
    "print(f'Les multimode : {multimode}')\n",
    "print(f'L\\'étendu : {etendu}')\n",
    "print(f'La variance : {round(variance, 3)}')\n",
    "print(f'L\\'écart-type : {round(Ecart, 2)}')\n",
    "\n",
    "\n"
   ]
  },
  {
   "cell_type": "code",
   "execution_count": 118,
   "metadata": {},
   "outputs": [],
   "source": [
    "import numpy as np\n",
    "\n",
    "pik = np.array([0, -40, -15, 0, 0, -23, 0])\n"
   ]
  },
  {
   "cell_type": "code",
   "execution_count": null,
   "metadata": {},
   "outputs": [
    {
     "name": "stdout",
     "output_type": "stream",
     "text": [
      "--------------------pearson-------------------\n",
      "la correlation entre x et y est :0.9326351412579652\n",
      "la correlation entre x et z est :-0.9982578712452834\n",
      "la correlation entre x et k est :0.19626358929130017\n",
      "--------------------Spearmanr-------------------\n",
      "la correlation entre x et y est :1.0\n",
      "la correlation entre x et z est :-1.0\n",
      "la correlation entre x et k est :0.17732484140379765\n"
     ]
    }
   ],
   "source": [
    "import numpy as np\n",
    "import pandas as pd\n",
    "from scipy.stats import pearsonr, spearmanr\n",
    "\n",
    "x = np.array([5, 6, 7, 8, 10, 15, 20])\n",
    "y = np.array([1, 2, 3, 4, 5, 6, 7])\n",
    "z = np.array([-1, -2, -3, -4, -5, -10, -15])\n",
    "k=np.array([0,-40,-15,0,0,-23,0])\n",
    "\n",
    "print ('--------------------pearson-------------------')\n",
    "# Calculer la correlation de pearson\n",
    "xy_corr_pearson,_=pearsonr(x,y)\n",
    "print(f\"la correlation entre x et y est :{xy_corr_pearson}\")\n",
    "\n",
    "# Calculer la correlation de pearson\n",
    "xz_corr_pearson,_=pearsonr(x,z)\n",
    "print(f\"la correlation entre x et z est :{xz_corr_pearson}\")\n",
    "\n",
    "# Calculer la correlation de pearson\n",
    "xk_corr_pearson,_=pearsonr(x,k)\n",
    "print(f\"la correlation entre x et k est :{xk_corr_pearson}\")\n",
    "\n",
    "print ('--------------------Spearmanr-------------------')\n",
    "\n",
    "# Calculer la correlation de pearson\n",
    "xy_corr_pearson,_=spearmanr(x,y)\n",
    "print(f\"la correlation entre x et y est :{xy_corr_pearson}\")\n",
    "\n",
    "# Calculer la correlation de pearson\n",
    "xz_corr_pearson,_=spearmanr(x,z)\n",
    "print(f\"la correlation entre x et z est :{xz_corr_pearson}\")\n",
    "\n",
    "# Calculer la correlation de pearson\n",
    "xk_corr_pearson,_=spearmanr(x,k)\n",
    "print(f\"la correlation entre x et k est :{xk_corr_pearson}\")"
   ]
  },
  {
   "cell_type": "code",
   "execution_count": null,
   "metadata": {},
   "outputs": [
    {
     "name": "stdout",
     "output_type": "stream",
     "text": [
      "    X  Y\n",
      "0   5  1\n",
      "1   6  2\n",
      "2   7  3\n",
      "3   8  4\n",
      "4  10  5\n",
      "5  15  6\n",
      "6  20  7\n"
     ]
    }
   ],
   "source": [
    "x = np.array([5, 6, 7, 8, 10, 15, 20])\n",
    "y = np.array([1, 2, 3, 4, 5, 6, 7])\n",
    "data = {'X':x, 'Y':y}\n",
    "df = pd.DataFrame(data)\n",
    "\n",
    "print (df)"
   ]
  },
  {
   "cell_type": "code",
   "execution_count": null,
   "metadata": {},
   "outputs": [
    {
     "name": "stdout",
     "output_type": "stream",
     "text": [
      "          X         Y\n",
      "X  1.000000  0.932635\n",
      "Y  0.932635  1.000000\n"
     ]
    }
   ],
   "source": [
    "pearsonr_corr=df.corr()# par defaut df.corr( calcul la correlation de pearson\n",
    "pearsonr_corr=df.corr(method='pearson')\n",
    "print (pearsonr_corr)"
   ]
  },
  {
   "cell_type": "code",
   "execution_count": null,
   "metadata": {},
   "outputs": [
    {
     "data": {
      "text/html": [
       "<div>\n",
       "<style scoped>\n",
       "    .dataframe tbody tr th:only-of-type {\n",
       "        vertical-align: middle;\n",
       "    }\n",
       "\n",
       "    .dataframe tbody tr th {\n",
       "        vertical-align: top;\n",
       "    }\n",
       "\n",
       "    .dataframe thead th {\n",
       "        text-align: right;\n",
       "    }\n",
       "</style>\n",
       "<table border=\"1\" class=\"dataframe\">\n",
       "  <thead>\n",
       "    <tr style=\"text-align: right;\">\n",
       "      <th></th>\n",
       "      <th>X</th>\n",
       "      <th>Y</th>\n",
       "      <th>Z</th>\n",
       "      <th>K</th>\n",
       "    </tr>\n",
       "  </thead>\n",
       "  <tbody>\n",
       "    <tr>\n",
       "      <th>0</th>\n",
       "      <td>5</td>\n",
       "      <td>1</td>\n",
       "      <td>-1</td>\n",
       "      <td>0</td>\n",
       "    </tr>\n",
       "    <tr>\n",
       "      <th>1</th>\n",
       "      <td>6</td>\n",
       "      <td>2</td>\n",
       "      <td>-2</td>\n",
       "      <td>-40</td>\n",
       "    </tr>\n",
       "    <tr>\n",
       "      <th>2</th>\n",
       "      <td>7</td>\n",
       "      <td>3</td>\n",
       "      <td>-3</td>\n",
       "      <td>-15</td>\n",
       "    </tr>\n",
       "    <tr>\n",
       "      <th>3</th>\n",
       "      <td>8</td>\n",
       "      <td>4</td>\n",
       "      <td>-4</td>\n",
       "      <td>0</td>\n",
       "    </tr>\n",
       "    <tr>\n",
       "      <th>4</th>\n",
       "      <td>10</td>\n",
       "      <td>5</td>\n",
       "      <td>-5</td>\n",
       "      <td>0</td>\n",
       "    </tr>\n",
       "    <tr>\n",
       "      <th>5</th>\n",
       "      <td>15</td>\n",
       "      <td>6</td>\n",
       "      <td>-10</td>\n",
       "      <td>-23</td>\n",
       "    </tr>\n",
       "    <tr>\n",
       "      <th>6</th>\n",
       "      <td>20</td>\n",
       "      <td>7</td>\n",
       "      <td>-15</td>\n",
       "      <td>0</td>\n",
       "    </tr>\n",
       "  </tbody>\n",
       "</table>\n",
       "</div>"
      ],
      "text/plain": [
       "    X  Y   Z   K\n",
       "0   5  1  -1   0\n",
       "1   6  2  -2 -40\n",
       "2   7  3  -3 -15\n",
       "3   8  4  -4   0\n",
       "4  10  5  -5   0\n",
       "5  15  6 -10 -23\n",
       "6  20  7 -15   0"
      ]
     },
     "execution_count": 20,
     "metadata": {},
     "output_type": "execute_result"
    }
   ],
   "source": [
    "x = np.array([5, 6, 7, 8, 10, 15, 20])\n",
    "y = np.array([1, 2, 3, 4, 5, 6, 7])\n",
    "z = np.array([-1, -2, -3, -4, -5, -10, -15])\n",
    "k=np.array([0,-40,-15,0,0,-23,0])\n",
    "data = {'X':x, 'Y':y,'Z':z,'K':k}\n",
    "df = pd.DataFrame(data)\n",
    "df"
   ]
  },
  {
   "cell_type": "code",
   "execution_count": null,
   "metadata": {},
   "outputs": [
    {
     "name": "stdout",
     "output_type": "stream",
     "text": [
      "          X         Y         Z         K\n",
      "X  1.000000  0.932635 -0.998258  0.196264\n",
      "Y  0.932635  1.000000 -0.921443  0.240312\n",
      "Z -0.998258 -0.921443  1.000000 -0.191306\n",
      "K  0.196264  0.240312 -0.191306  1.000000\n"
     ]
    }
   ],
   "source": [
    "pearsonr_corr=df.corr()# par defaut df.corr( calcul la correlation de pearson\n",
    "pearsonr_corr=df.corr(method='pearson')\n",
    "print (pearsonr_corr)"
   ]
  },
  {
   "cell_type": "code",
   "execution_count": null,
   "metadata": {},
   "outputs": [
    {
     "data": {
      "image/png": "[encoded data removed]",
      "text/plain": [
       "<Figure size 500x500 with 2 Axes>"
      ]
     },
     "metadata": {},
     "output_type": "display_data"
    }
   ],
   "source": [
    "import seaborn as sb\n",
    "from matplotlib import pyplot as plt\n",
    "\n",
    "plt.figure(figsize=(5,5))\n",
    "sb.heatmap(pearsonr_corr,cmap='pink',annot=True,fmt='.3f')\n",
    "plt.title ('Matrice de correlation')\n",
    "# 'coolwarm','summer','pink'\n",
    "plt.show()\n"
   ]
  },
  {
   "cell_type": "code",
   "execution_count": null,
   "metadata": {},
   "outputs": [
    {
     "data": {
      "image/png": "[encoded data removed]",
      "text/plain": [
       "<Figure size 640x480 with 1 Axes>"
      ]
     },
     "metadata": {},
     "output_type": "display_data"
    }
   ],
   "source": [
    "sb.set(style='dark')\n",
    "sb.countplot(x='X',data=df)\n",
    "plt.show()"
   ]
  },
  {
   "cell_type": "code",
   "execution_count": null,
   "metadata": {},
   "outputs": [
    {
     "data": {
      "image/png": "[encoded data removed]",
      "text/plain": [
       "<Figure size 640x480 with 1 Axes>"
      ]
     },
     "metadata": {},
     "output_type": "display_data"
    },
    {
     "data": {
      "image/png": "[encoded data removed]",
      "text/plain": [
       "<Figure size 640x480 with 1 Axes>"
      ]
     },
     "metadata": {},
     "output_type": "display_data"
    },
    {
     "data": {
      "image/png": "[encoded data removed]",
      "text/plain": [
       "<Figure size 640x480 with 1 Axes>"
      ]
     },
     "metadata": {},
     "output_type": "display_data"
    },
    {
     "data": {
      "image/png": "[encoded data removed]",
      "text/plain": [
       "<Figure size 640x480 with 1 Axes>"
      ]
     },
     "metadata": {},
     "output_type": "display_data"
    }
   ],
   "source": [
    "for col in df.columns:\n",
    "    sb.countplot(x=col,data=df)\n",
    "    plt.title(f\"countplot pour {col}\")\n",
    "    plt.show()"
   ]
  },
  {
   "cell_type": "markdown",
   "metadata": {},
   "source": [
    "# 3.3 Distribustion Normal"
   ]
  },
  {
   "cell_type": "code",
   "execution_count": null,
   "metadata": {},
   "outputs": [
    {
     "data": {
      "image/png": "[encoded data removed]",
      "text/plain": [
       "<Figure size 640x480 with 1 Axes>"
      ]
     },
     "metadata": {},
     "output_type": "display_data"
    }
   ],
   "source": [
    "import numpy as np\n",
    "import matplotlib.pyplot as plt\n",
    "\n",
    "moyenne=0\n",
    "Ecart_type=1\n",
    "data=np.random.normal(moyenne,Ecart_type,1000)\n",
    "\n",
    "plt.hist(data,bins=100,color='y',density=True)\n",
    "plt.title('Histogramme')\n",
    "plt.xlabel('Valeurs')\n",
    "plt.ylabel('Frequence')\n",
    "plt.show()"
   ]
  },
  {
   "cell_type": "code",
   "execution_count": null,
   "metadata": {},
   "outputs": [
    {
     "data": {
      "image/png": "[encoded data removed]",
      "text/plain": [
       "<Figure size 640x480 with 1 Axes>"
      ]
     },
     "metadata": {},
     "output_type": "display_data"
    }
   ],
   "source": [
    "import numpy as np\n",
    "import matplotlib.pyplot as plt\n",
    "\n",
    "moyenne=0\n",
    "Ecart_type=1\n",
    "data=np.random.normal(moyenne,Ecart_type,1000)\n",
    "\n",
    "plt.hist(data,bins=100,color='y',density=True)\n",
    "plt.title('Histogramme')\n",
    "plt.xlabel('Valeurs')\n",
    "plt.ylabel('Frequence')\n",
    "\n",
    "\n",
    "xmin,xmax=plt.xlim()\n",
    "\n",
    "x=np.linspace(xmin,xmax,400)\n",
    "p=(np.exp(-(((x-moyenne)**2)/(2*Ecart_type**2))))/(np.sqrt(2*np.pi)*Ecart_type)\n",
    "plt.plot(x,p,'b',linewidth=2)\n",
    "\n",
    "\n",
    "\n",
    "plt.show()"
   ]
  },
  {
   "cell_type": "code",
   "execution_count": null,
   "metadata": {},
   "outputs": [
    {
     "name": "stdout",
     "output_type": "stream",
     "text": [
      "les donnee suivent une distribution normal\n",
      "0.7762581261696766\n"
     ]
    }
   ],
   "source": [
    "from scipy.stats import shapiro\n",
    "\n",
    "np.random.seed(14)\n",
    "\n",
    "data=np.random.normal(0,2,1000)\n",
    "# data=[0,0,1,2,0,4,8,0]\n",
    "# data=[10,15,20,25,42]\n",
    "\n",
    "stat,val=shapiro(data)\n",
    "\n",
    "if val>0.05:\n",
    "    print(f'les donnee suivent une distribution normal')\n",
    "else:\n",
    "    print(f'les donnee ne suivent pas une distribution normal')\n",
    "print(val)"
   ]
  },
  {
   "cell_type": "code",
   "execution_count": 119,
   "metadata": {},
   "outputs": [
    {
     "name": "stdout",
     "output_type": "stream",
     "text": [
      "Q1: 5.25, La mediane (Q2): Q3=95.0\n"
     ]
    }
   ],
   "source": [
    "import numpy as np\n",
    "\n",
    "data=[1,3,5,6,10,45,80,100,150,200]\n",
    "\n",
    "Q1=np.percentile(data,25)\n",
    "Q2=np.percentile(data,50)\n",
    "Q3=np.percentile(data,75)\n",
    "\n",
    "print(f'Q1: {Q1}, La mediane (Q2): Q3={Q3}')\n"
   ]
  },
  {
   "cell_type": "code",
   "execution_count": 126,
   "metadata": {},
   "outputs": [
    {
     "data": {
      "text/plain": [
       "Text(0.5, 1.0, 'Boite a Moustache')"
      ]
     },
     "execution_count": 126,
     "metadata": {},
     "output_type": "execute_result"
    },
    {
     "data": {
      "image/png": "[encoded data removed]",
      "text/plain": [
       "<Figure size 800x400 with 1 Axes>"
      ]
     },
     "metadata": {},
     "output_type": "display_data"
    }
   ],
   "source": [
    "# dessiner la boite a moustache\n",
    "data=np.random.normal(0,2,1000)\n",
    "plt.figure(figsize=(8,4))\n",
    "plt.boxplot(data,patch_artist=True)\n",
    "plt.xlabel('Valeut')\n",
    "plt.title('Boite a Moustache')\n"
   ]
  }
 ],
 "metadata": {
  "kernelspec": {
   "display_name": "env",
   "language": "python",
   "name": "python3"
  },
  "language_info": {
   "codemirror_mode": {
    "name": "ipython",
    "version": 3
   },
   "file_extension": ".py",
   "mimetype": "text/x-python",
   "name": "python",
   "nbconvert_exporter": "python",
   "pygments_lexer": "ipython3",
   "version": "3.12.6"
  }
 },
 "nbformat": 4,
 "nbformat_minor": 2
}
